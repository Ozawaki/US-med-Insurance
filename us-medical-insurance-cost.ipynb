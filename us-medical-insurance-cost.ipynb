import csv
import matplotlib.pyplot as plt
import numpy as np

age = []
sex = []
bmi = []
children = []
smoker_status = []
region = []
charges = []

with open("insurance.csv", newline = '') as ins_file:
    reader = csv.DictReader(ins_file)
    for row in reader:
        age.append(row['age'])
        sex.append(row['sex'])
        bmi.append(row['bmi'])
        children.append(row['children'])
        smoker_status.append(row['smoker'])
        region.append(row['region'])
        charges.append(row['charges'])


def average_cost(cost, factor, param):
    sum_of_cost = 0
    total_in_factor = 0
    i = 0
    while i < len(cost):
        if factor[i] == param:
            sum_of_cost += float(cost[i])
            total_in_factor += 1
        i = i + 1
    return round(sum_of_cost/total_in_factor, 2)

avg_cost_for_sw = average_cost(charges, region, "southwest")
avg_cost_for_nw = average_cost(charges, region, "northwest")
avg_cost_for_se = average_cost(charges, region, "southeast")
avg_cost_for_ne = average_cost(charges, region, "northeast")



print("The average cost for someone living in the southwest is " + str(avg_cost_for_sw))
print("The average cost for someone living in the northwest is " + str(avg_cost_for_nw))
print("The average cost for someone living in the southeast is " + str(avg_cost_for_se))
print("The average cost for someone living in the northeast is " + str(avg_cost_for_ne))
print("The greatest difference is " + str(round(avg_cost_for_se - avg_cost_for_sw, 2)))

bmi_to_charge = []

def create_bmi_to_charge():
    i = 0
    while i < len(bmi):
        bmi_to_charge.append([bmi[i], charges[i]])
        i += 1
    return bmi_to_charge

create_bmi_to_charge()

bmi_to_charge = sorted(bmi_to_charge, key=lambda x: x[1])



x = []
y = []

def create_cost_to_bmi_plot():
    i = 0
    while i < len(bmi_to_charge):
        x.append(float(bmi_to_charge[i][0]))
        y.append(float(bmi_to_charge[i][1]))
        i += 1



create_cost_to_bmi_plot()

plt.scatter(x, y)
plt.xlabel("BMI")
plt.ylabel("Cost of Insurance")
plt.title("BMI and Insurance Cost")
plt.show()

def create_bmi_region_cost(current):
    i = 0
    bmi_to_cost_reg = []
    while i < len(bmi):
        if region[i] == current:
            bmi_to_cost_reg.append((float(bmi[i]), float(charges[i])))
        i += 1
    return bmi_to_cost_reg

bmi_southeast_cost = sorted(create_bmi_region_cost("southeast"), key = lambda x: x[1])

bmi_southwest_cost = sorted(create_bmi_region_cost("southwest"), key = lambda x: x[1])

x1 = []
y1 = []
x2 = []
y2 = []

for i in range(0, len(bmi_southeast_cost)):
    x1.append(bmi_southeast_cost[i][0])
    y1.append(bmi_southeast_cost[i][1])

for i in range(0, len(bmi_southwest_cost)):
    x2.append(bmi_southwest_cost[i][0])
    y2.append(bmi_southwest_cost[i][1])

plt.scatter(x1, y1, color = "g")
plt.scatter(x2, y2, color = "b")
plt.xlabel("BMI")
plt.ylabel("Cost of Insurance")
plt.title("BMI and Insurance Cost for SE and SW")
plt.show()

def percent_above_x(li, mass):
    count = 0
    for i in range(0, len(li)):
        if mass <= li[i][0]:
            count += 1
    return count/len(li)*100



print("Percentage of sample from the Southeast with BMI greater than 41: " + str(round(percent_above_x(bmi_southeast_cost, 42), 1)))
print("Percentage of sample from the Southwest with BMI greater than 41: " + str(round(percent_above_x(bmi_southwest_cost, 42), 1)))

def number_of_smokers(reg):
    count = 0
    for i in range(len(region)):
        if smoker_status[i] == "yes" and region[i] == reg:
            count += 1
    return count

x = ["Southeast", "Southwest"]
y = [number_of_smokers("southeast"), number_of_smokers("southwest")]

plt.bar(x, y)
plt.xlabel("Region")
plt.ylabel("Number of Smokers")
plt.title("Smokers by Region")
plt.show()


print("Percentage of smokers in Southeast: " + str(round(number_of_smokers("southeast")/len(bmi_southeast_cost)*100)))
print("Percentage of smokers in Southwest: " + str(round(number_of_smokers("southwest")/len(bmi_southwest_cost)*100)))

males_in_se = 0
females_in_se = 0
males_in_sw = 0
females_in_sw = 0

for i in range(0, len(region)):
    if region[i] == "southeast" and sex[i] == "male":
        males_in_se += 1
    elif region[i] == "southeast" and sex[i] == "female":
        females_in_se += 1
    elif region[i] == "southwest" and sex[i] == "male":
        males_in_sw += 1
    elif region[i] == "southwest" and sex[i] == "female":
        females_in_sw += 1

print("There are " + str(males_in_se) + " men represented in the Southeast")
print("There are " + str(females_in_se) + " women represented in the Southeast")
print("There are " + str(males_in_sw) + " men represented in the Southwest")
print("There are " + str(females_in_sw) + " women represented in the Southwest")


def average_price_by_sex(current, reg):
    count = 0
    total = 0
    for i in range(0, len(region)):
        if sex[i] == current and region[i] == reg:
            count += 1
            total += float(charges[i])
    return total/count 

print("The average price for males in the Southeast is $" + str(round(average_price_by_sex("male", "southeast"), 2)))
print("The average price for females in the Southeast is $" + str(round(average_price_by_sex("female", "southeast"), 2)))
print("The average price for males in the Southwest is $" + str(round(average_price_by_sex("male", "southwest"), 2)))
print("The average price for females in the Southwest is $" + str(round(average_price_by_sex("female", "southwest"), 2)))

print("The difference between what men pay and what women pay in the southeast is $" + str(round(average_price_by_sex("male", "southeast") - average_price_by_sex("female", "southeast"), 2)))
print("The difference between what men pay and what women pay in the southwest is $" + str(round(average_price_by_sex("male", "southwest") - average_price_by_sex("female", "southwest"), 2)))

avg_child_se = 0
avg_child_sew = 0



def average_children_builder(reg):
    child = 0
    count = 0
    for i in range(0, len(region)):
        if region[i] == reg:
            child += int(children[i])
            count += 1

    return round(child/count, 2)

avg_child_se = average_children_builder("southeast")
avg_child_sw = average_children_builder("southwest")

print("The average number of children per insured in the southeast: " + str(avg_child_se))
print("The average number of children per insured in the southwest: " + str(avg_child_sw))

def average_age_builder(reg):
    years = 0
    count = 0
    for i in range(0, len(region)):
        if region[i] == reg:
            years += int(age[i])
            count += 1
    return round(years/count, 2)

avg_age_se = average_age_builder("southeast")
avg_age_sw = average_age_builder("southwest")

print("The average of age per insured in the southeast: " + str(avg_age_se))
print("The average of age per insured in the southwest: " + str(avg_age_sw))
